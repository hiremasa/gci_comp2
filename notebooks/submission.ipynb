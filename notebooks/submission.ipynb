{
  "nbformat": 4,
  "nbformat_minor": 0,
  "metadata": {
    "colab": {
      "name": "submission.ipynb",
      "provenance": [],
      "collapsed_sections": []
    },
    "kernelspec": {
      "name": "python3",
      "display_name": "Python 3"
    }
  },
  "cells": [
    {
      "cell_type": "code",
      "metadata": {
        "id": "tDfheIASs_ZS",
        "colab_type": "code",
        "colab": {}
      },
      "source": [
        "import pandas as pd"
      ],
      "execution_count": null,
      "outputs": []
    },
    {
      "cell_type": "code",
      "metadata": {
        "id": "oMG6zey3tBIH",
        "colab_type": "code",
        "colab": {}
      },
      "source": [
        "input_path=\"\"\n",
        "submission_path=\"\"\n",
        "XGB_pred=pd.read_csv(submission_path+\"226feat_5fold_seed1001_XGB.csv\")[\"TARGET\"]\n",
        "LGBM_pred=pd.read_csv(submission_path+\"beyascv7639_226feat_5fold_LGBM.csv\")[\"TARGET\"]\n",
        "\n",
        "sub_preds=LGBM_pred*(4/5)+XGB_pred*(1/5)\n",
        "result=pd.read_csv(input_path+\"sample_submission.csv\")\n",
        "result[\"TARGET\"]=sub_preds\n",
        "result.to_csv(submission_path+\"XGB_LGBM.csv\")"
      ],
      "execution_count": null,
      "outputs": []
    }
  ]
}