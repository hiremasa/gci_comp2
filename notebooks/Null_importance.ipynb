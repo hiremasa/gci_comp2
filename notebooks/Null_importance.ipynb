{
  "nbformat": 4,
  "nbformat_minor": 0,
  "metadata": {
    "colab": {
      "name": "Null_importance.ipynb",
      "provenance": [],
      "collapsed_sections": []
    },
    "kernelspec": {
      "name": "python3",
      "display_name": "Python 3"
    }
  },
  "cells": [
    {
      "cell_type": "code",
      "metadata": {
        "id": "t3Lu8CnB9igB",
        "colab_type": "code",
        "colab": {}
      },
      "source": [
        "import pandas as pd\n",
        "import numpy as np\n",
        "\n",
        "from sklearn.metrics import roc_auc_score\n",
        "from sklearn.model_selection import KFold, StratifiedKFold, train_test_split\n",
        "import time\n",
        "from lightgbm import LGBMClassifier\n",
        "import lightgbm as lgb\n",
        "\n",
        "import warnings\n",
        "warnings.simplefilter('ignore', UserWarning)\n",
        "\n",
        "import gc\n",
        "gc.enable()"
      ],
      "execution_count": null,
      "outputs": []
    },
    {
      "cell_type": "code",
      "metadata": {
        "id": "C6-Bb6Nf9l3P",
        "colab_type": "code",
        "colab": {}
      },
      "source": [
        "feature_path=\"\"\n",
        "print(\"Load numerical features\")\n",
        "df_num = pd.concat([\n",
        "            pd.read_feather(feature_path+\"feature_num_features.ftr\"),\n",
        "            #pd.read_feather(feature_path+\"feature_arithmetic+_combi2.ftr\"),\n",
        "            #pd.read_feather(feature_path+\"feature_arithmetic-_combi2.ftr\"),\n",
        "            pd.read_feather(feature_path+\"feature_arithmetic*_combi2.ftr\"),\n",
        "            pd.read_feather(feature_path+\"feature_arithmeticdiv_combi2.ftr\"),\n",
        "            pd.read_feather(feature_path+\"train_test_7th_df.ftr\"),\n",
        "            pd.read_feather(feature_path\"train_test_oliverFE_df.ftr\")\n",
        "            ],axis=1,)\n",
        "y_train = df_num[\"TARGET\"].dropna()\n",
        "df_num.drop([\"TARGET\"], axis=1, inplace=True)\n",
        "\n",
        "print(\"Load categorical features\")\n",
        "df = pd.concat([\n",
        "            pd.read_feather(feature_path+\"feature_1way_label_encoding_with_te.ftr\"),\n",
        "            pd.read_feather(feature_path+\"feature_2way_label_encoding_with_te.ftr\"),\n",
        "            #pd.read_feather(feature_path+\"feature_3way_including_CODE_GENDER_label_encoding_with_te.ftr\"),\n",
        "            pd.read_feather(feature_path+\"feature_round_num_label_encoding.ftr\"),\n",
        "            ],axis=1,)\n",
        "df = pd.concat([df, df_num], axis=1)"
      ],
      "execution_count": null,
      "outputs": []
    },
    {
      "cell_type": "code",
      "metadata": {
        "id": "VeHzGHPb9lyc",
        "colab_type": "code",
        "colab": {}
      },
      "source": [
        "def reduce_mem_usage(df):\n",
        "    \"\"\" iterate through all the columns of a dataframe and modify the data type\n",
        "        to reduce memory usage.        \n",
        "    \"\"\"\n",
        "    start_mem = df.memory_usage().sum() / 1024**2\n",
        "    print('Memory usage of dataframe is {:.2f} MB'.format(start_mem))\n",
        "\n",
        "    for col in df.columns:\n",
        "        col_type = df[col].dtype\n",
        "\n",
        "        if col_type != object:\n",
        "            c_min = df[col].min()\n",
        "            c_max = df[col].max()\n",
        "            if str(col_type)[:3] == 'int':\n",
        "                if c_min > np.iinfo(np.int8).min and c_max < np.iinfo(np.int8).max:\n",
        "                    df[col] = df[col].astype(np.int8)\n",
        "                elif c_min > np.iinfo(np.int16).min and c_max < np.iinfo(np.int16).max:\n",
        "                    df[col] = df[col].astype(np.int16)\n",
        "                elif c_min > np.iinfo(np.int32).min and c_max < np.iinfo(np.int32).max:\n",
        "                    df[col] = df[col].astype(np.int32)\n",
        "                elif c_min > np.iinfo(np.int64).min and c_max < np.iinfo(np.int64).max:\n",
        "                    df[col] = df[col].astype(np.int64)  \n",
        "            else:\n",
        "                if c_min > np.finfo(np.float16).min and c_max < np.finfo(np.float16).max:\n",
        "                    df[col] = df[col].astype(np.float16)\n",
        "                elif c_min > np.finfo(np.float32).min and c_max < np.finfo(np.float32).max:\n",
        "                    df[col] = df[col].astype(np.float32)\n",
        "                else:\n",
        "                    df[col] = df[col].astype(np.float64)\n",
        "        else:\n",
        "            df[col] = df[col].astype('category')\n",
        "\n",
        "    end_mem = df.memory_usage().sum() / 1024**2\n",
        "    print('Memory usage after optimization is: {:.2f} MB'.format(end_mem))\n",
        "    print('Decreased by {:.1f}%'.format(100 * (start_mem - end_mem) / start_mem))\n",
        "\n",
        "    return df"
      ],
      "execution_count": null,
      "outputs": []
    },
    {
      "cell_type": "code",
      "metadata": {
        "id": "nQ9MPCL59ltk",
        "colab_type": "code",
        "colab": {}
      },
      "source": [
        "del df_num"
      ],
      "execution_count": null,
      "outputs": []
    },
    {
      "cell_type": "code",
      "metadata": {
        "id": "4W-bsC9w9lkB",
        "colab_type": "code",
        "colab": {}
      },
      "source": [
        "df=reduce_mem_usage(df)"
      ],
      "execution_count": null,
      "outputs": []
    },
    {
      "cell_type": "code",
      "metadata": {
        "id": "Ff1sSRWD9lfj",
        "colab_type": "code",
        "colab": {}
      },
      "source": [
        "input_path=\"\"\n",
        "feature_path=\"\"\n",
        "y_train=pd.read_csv(input_path+\"train.csv\").TARGET\n",
        "X_train = df.iloc[:y_train.shape[0],:]\n",
        "X_test = df.iloc[y_train.shape[0]:,:]"
      ],
      "execution_count": null,
      "outputs": []
    },
    {
      "cell_type": "code",
      "metadata": {
        "id": "2q801plq9lYo",
        "colab_type": "code",
        "colab": {}
      },
      "source": [
        "def get_feature_importances(X, y, shuffle=False):\n",
        "    if shuffle:\n",
        "        y = np.random.permutation(y)\n",
        "\n",
        "    lgb_params = {\n",
        "        'objective': 'binary',\n",
        "        'boosting_type': 'gbdt',\n",
        "        'subsample': 0.8715623,\n",
        "        'colsample_bytree': 0.508716,\n",
        "        'num_leaves': 54,\n",
        "        'max_depth': 10,\n",
        "        'seed': 42,\n",
        "        'bagging_freq': 1,\n",
        "        'n_jobs': 4\n",
        "    }\n",
        "\n",
        "    dtrain = lgb.Dataset(X, y, free_raw_data=False, silent=True)\n",
        "    clf = lgb.train(params=lgb_params, train_set=dtrain)#, num_boost_round=200, categorical_feature=categorical_feats)\n",
        "\n",
        "\n",
        "    imp_df = pd.DataFrame()\n",
        "    imp_df[\"feature\"] = X.columns\n",
        "    imp_df[\"importance\"] = clf.feature_importance(importance_type='gain')\n",
        "    return imp_df.sort_values(\"importance\", ascending=False)"
      ],
      "execution_count": null,
      "outputs": []
    },
    {
      "cell_type": "code",
      "metadata": {
        "id": "JmP6wB_Z-NOh",
        "colab_type": "code",
        "colab": {}
      },
      "source": [
        "actual_imp_df = get_feature_importances(X_train, y_train, shuffle=False)"
      ],
      "execution_count": null,
      "outputs": []
    },
    {
      "cell_type": "code",
      "metadata": {
        "id": "ztsa_4QT-N-U",
        "colab_type": "code",
        "colab": {}
      },
      "source": [
        "actual_imp_df.to_csv(feature_path+\"actual_imp_df.csv\") "
      ],
      "execution_count": null,
      "outputs": []
    },
    {
      "cell_type": "code",
      "metadata": {
        "id": "ev5dna2y-N5s",
        "colab_type": "code",
        "colab": {}
      },
      "source": [
        "# 目的変数をシャッフルした状態でモデルを学習し、特徴量の重要度を含むデータフレームを作成\n",
        "N_RUNS = 40\n",
        "null_imp_df = pd.DataFrame()\n",
        "for i in range(N_RUNS):\n",
        "    imp_df = get_feature_importances(X_train,  y_train, shuffle=True)\n",
        "    imp_df[\"run\"] = i + 1\n",
        "    null_imp_df = pd.concat([null_imp_df, imp_df])"
      ],
      "execution_count": null,
      "outputs": []
    },
    {
      "cell_type": "code",
      "metadata": {
        "id": "mJQv0XKV-Nx0",
        "colab_type": "code",
        "colab": {}
      },
      "source": [
        "null_imp_df.to_csv(feature_path+\"null_imp_df.csv\")"
      ],
      "execution_count": null,
      "outputs": []
    }
  ]
}