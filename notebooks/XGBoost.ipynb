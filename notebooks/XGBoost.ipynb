{
  "nbformat": 4,
  "nbformat_minor": 0,
  "metadata": {
    "colab": {
      "name": "XGBoost.ipynb",
      "provenance": [],
      "collapsed_sections": []
    },
    "kernelspec": {
      "name": "python3",
      "display_name": "Python 3"
    },
    "accelerator": "GPU"
  },
  "cells": [
    {
      "cell_type": "code",
      "metadata": {
        "id": "FXTud3iwP94v",
        "colab_type": "code",
        "colab": {}
      },
      "source": [
        "import pandas as pd\n",
        "import numpy as np\n",
        "\n",
        "from sklearn.metrics import roc_auc_score\n",
        "from sklearn.model_selection import KFold, StratifiedKFold, train_test_split\n",
        "import time\n",
        "from lightgbm import LGBMClassifier\n",
        "import lightgbm as lgb\n",
        "from xgboost import XGBClassifier\n",
        "\n",
        "import warnings\n",
        "warnings.simplefilter('ignore', UserWarning)\n",
        "\n",
        "import gc\n",
        "gc.enable()"
      ],
      "execution_count": null,
      "outputs": []
    },
    {
      "cell_type": "code",
      "metadata": {
        "id": "OWANTIm2B839",
        "colab_type": "code",
        "colab": {}
      },
      "source": [
        "input_path=\"\"\n",
        "submission_path=\"\"\n",
        "feature_path=\"\"\n",
        "print(\"Load numerical features\")\n",
        "df_num = pd.concat([\n",
        "            pd.read_feather(feature_path+\"feature_num_features.ftr\"),\n",
        "            #pd.read_feather(feature_path+\"feature_arithmetic+_combi2.ftr\"),\n",
        "            #pd.read_feather(feature_path+\"feature_arithmetic-_combi2.ftr\"),\n",
        "            pd.read_feather(feature_path+\"feature_arithmetic*_combi2.ftr\"),\n",
        "            pd.read_feather(feature_path+\"feature_arithmeticdiv_combi2.ftr\"),\n",
        "            pd.read_feather(feature_path+\"train_test_7th_df.ftr\"),\n",
        "            pd.read_feather(feature_path\"train_test_oliverFE_df.ftr\")\n",
        "            ],axis=1,)\n",
        "y_train = df_num[\"TARGET\"].dropna()\n",
        "df_num.drop([\"TARGET\"], axis=1, inplace=True)\n",
        "\n",
        "print(\"Load categorical features\")\n",
        "df = pd.concat([\n",
        "            pd.read_feather(feature_path+\"feature_1way_label_encoding_with_te.ftr\"),\n",
        "            pd.read_feather(feature_path+\"feature_2way_label_encoding_with_te.ftr\"),\n",
        "            #pd.read_feather(feature_path+\"feature_3way_including_CODE_GENDER_label_encoding_with_te.ftr\"),\n",
        "            pd.read_feather(feature_path+\"feature_round_num_label_encoding.ftr\"),\n",
        "            ],axis=1,)\n",
        "df = pd.concat([df, df_num], axis=1)\n",
        "X_train = df.iloc[:y_train.shape[0],:]\n",
        " X_test = df.iloc[y_train.shape[0]:,:]"
      ],
      "execution_count": null,
      "outputs": []
    },
    {
      "cell_type": "code",
      "metadata": {
        "id": "03Eoi2-0B80Z",
        "colab_type": "code",
        "colab": {}
      },
      "source": [
        "actual_imp_df=pd.read_csv(feature_path+\"actual_imp_df.csv\")\n",
        "null_imp_df=pd.read_csv(feature_path+\"null_imp_df.csv\") \n",
        "\n",
        "THRESHOLD = 97\n",
        "# 閾値を超える特徴量を取得\n",
        "imp_features = []\n",
        "for feature in actual_imp_df[\"feature\"]:\n",
        "    actual_value = actual_imp_df.query(f\"feature=='{feature}'\")[\"importance\"].values\n",
        "    null_value = null_imp_df.query(f\"feature=='{feature}'\")[\"importance\"].values\n",
        "    percentage = (null_value < actual_value).sum() / null_value.size * 100\n",
        "    if percentage >= THRESHOLD:\n",
        "        imp_features.append(feature)\n",
        "len(imp_features)\n"
      ],
      "execution_count": null,
      "outputs": []
    },
    {
      "cell_type": "code",
      "metadata": {
        "id": "Hou3HSHFB8wp",
        "colab_type": "code",
        "colab": {}
      },
      "source": [
        "add_feature2=pd.read_feather(feature_path+\"github_feature2.fhr\")\n",
        "train_df=pd.concat([X_train.loc[:, imp_features], add_feature2.iloc[:y_train.shape[0],:]], axis=1)\n",
        "test_df=pd.concat([X_test.loc[:, imp_features], add_feature2.iloc[y_train.shape[0]:,:]], axis=1)\n",
        "y_train=pd.read_csv(input_path+\"train.csv\").TARGET"
      ],
      "execution_count": null,
      "outputs": []
    },
    {
      "cell_type": "code",
      "metadata": {
        "id": "CYOcJ23Ww4zV",
        "colab_type": "code",
        "colab": {}
      },
      "source": [
        "test_df=test_df.drop(\"Unnamed: 0\", axis=\"columns\")"
      ],
      "execution_count": null,
      "outputs": []
    },
    {
      "cell_type": "code",
      "metadata": {
        "id": "0IQVaSRaxHoo",
        "colab_type": "code",
        "colab": {}
      },
      "source": [
        "test_df.head()"
      ],
      "execution_count": null,
      "outputs": []
    },
    {
      "cell_type": "code",
      "metadata": {
        "id": "kE5nY233w9An",
        "colab_type": "code",
        "colab": {}
      },
      "source": [
        "train_df.head()"
      ],
      "execution_count": null,
      "outputs": []
    },
    {
      "cell_type": "code",
      "metadata": {
        "id": "BvZvLXdolFuO",
        "colab_type": "code",
        "colab": {}
      },
      "source": [
        "gc.collect()"
      ],
      "execution_count": null,
      "outputs": []
    },
    {
      "cell_type": "code",
      "metadata": {
        "id": "Nbeit3VQQABc",
        "colab_type": "code",
        "colab": {}
      },
      "source": [
        "oof_preds = np.zeros(train_df.shape[0]) #num feature 226 thre=97\n",
        "sub_preds = np.zeros(test_df.shape[0])\n",
        "\n",
        "num_folds=5\n",
        "folds = StratifiedKFold(n_splits= num_folds, shuffle=True, random_state=1001)\n",
        "\n",
        "for n_fold, (train_idx, valid_idx) in enumerate(folds.split(train_df, y_train)):\n",
        "        train_x, train_y = train_df.iloc[train_idx], y_train.iloc[train_idx]\n",
        "        valid_x, valid_y = train_df.iloc[valid_idx], y_train.iloc[valid_idx]\n",
        "\n",
        "\n",
        "        clf = XGBClassifier(\n",
        "            #nthread=4,\n",
        "            n_estimators=10000,\n",
        "            learning_rate=0.005134,\n",
        "            num_leaves=54,\n",
        "            colsample_bytree=0.508716,\n",
        "            subsample=0.8715623,\n",
        "            max_depth=10,\n",
        "            reg_alpha=0.436193,\n",
        "            reg_lambda=0.479169,\n",
        "            min_split_gain=0.024766,\n",
        "            min_child_weight=39.3259775,\n",
        "            #silent=-1,\n",
        "            verbose=-1, )\n",
        "\n",
        "        clf.fit(train_x, train_y, eval_set=[(train_x, train_y), (valid_x, valid_y)], \n",
        "            eval_metric= 'auc', verbose= 200, early_stopping_rounds= 200)\n",
        "\n",
        "        oof_preds[valid_idx] = clf.predict_proba(valid_x)[:, 1]\n",
        "        sub_preds += clf.predict_proba(test_df)[:, 1] / folds.n_splits\n",
        "\n",
        "\n",
        "        print('Fold %2d AUC : %.6f' % (n_fold + 1, roc_auc_score(valid_y, oof_preds[valid_idx])))\n",
        "        del clf, train_x, train_y, valid_x, valid_y\n",
        "        gc.collect()\n",
        "\n",
        "input_path=\"\"\n",
        "submission_path=\"\"\n",
        "result=pd.read_csv(input_path+\"sample_submission.csv\")\n",
        "result[\"TARGET\"]=sub_preds\n",
        "result.to_csv(submission_path+\"226feat_5fold_seed1001_XGB.csv\")"
      ],
      "execution_count": null,
      "outputs": []
    }
  ]
}